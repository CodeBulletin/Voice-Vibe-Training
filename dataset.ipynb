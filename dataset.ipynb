{
 "cells": [
  {
   "cell_type": "code",
   "execution_count": null,
   "metadata": {},
   "outputs": [],
   "source": [
    "from google.colab import drive\n",
    "drive.mount('/mnt/drive')"
   ]
  },
  {
   "cell_type": "code",
   "execution_count": null,
   "metadata": {},
   "outputs": [],
   "source": [
    "!curl http://files.rpi4.lol/share?id=dd38803c-7861-4d59-a17e-180f4936b066 -o dataset.zip\n",
    "!mkdir '/mnt/drive/MyDrive/VoiceVibe/'\n",
    "!mkdir '/mnt/drive/MyDrive/VoiceVibe/Reports' '/mnt/drive/MyDrive/VoiceVibe/Models'"
   ]
  },
  {
   "cell_type": "code",
   "execution_count": 1,
   "metadata": {},
   "outputs": [],
   "source": [
    "import numpy as np\n",
    "import pandas as pd\n",
    "import os\n",
    "from sklearn.model_selection import train_test_split\n",
    "import matplotlib.pyplot as plt"
   ]
  },
  {
   "cell_type": "code",
   "execution_count": 2,
   "metadata": {},
   "outputs": [],
   "source": [
    "unzip = False\n",
    "seed = 42\n",
    "dataset_path = \"/mnt/drive/MyDrive/VoiceVibe/datasets_1d/\""
   ]
  },
  {
   "cell_type": "code",
   "execution_count": 3,
   "metadata": {},
   "outputs": [],
   "source": [
    "# unzip the dataset\n",
    "if unzip:\n",
    "    !unzip -q dataset.zip -d \"/mnt/drive/MyDrive/VoiceVibe/\""
   ]
  },
  {
   "cell_type": "code",
   "execution_count": 4,
   "metadata": {},
   "outputs": [],
   "source": [
    "df = pd.read_csv(os.path.join(dataset_path, \"dataset_1d.csv\"))"
   ]
  },
  {
   "cell_type": "code",
   "execution_count": 5,
   "metadata": {},
   "outputs": [],
   "source": [
    "# Merge emotions fear and fearfull, calm and neutral\n",
    "\n",
    "df['Emotion'] = df['Emotion'].replace('fearful', 'fear')\n",
    "df['Emotion'] = df['Emotion'].replace('calm', 'neutral')"
   ]
  },
  {
   "cell_type": "code",
   "execution_count": 6,
   "metadata": {},
   "outputs": [
    {
     "data": {
      "text/html": [
       "<div>\n",
       "<style scoped>\n",
       "    .dataframe tbody tr th:only-of-type {\n",
       "        vertical-align: middle;\n",
       "    }\n",
       "\n",
       "    .dataframe tbody tr th {\n",
       "        vertical-align: top;\n",
       "    }\n",
       "\n",
       "    .dataframe thead th {\n",
       "        text-align: right;\n",
       "    }\n",
       "</style>\n",
       "<table border=\"1\" class=\"dataframe\">\n",
       "  <thead>\n",
       "    <tr style=\"text-align: right;\">\n",
       "      <th></th>\n",
       "      <th>Intensity</th>\n",
       "      <th>AudioLength</th>\n",
       "      <th>MFCCExtra</th>\n",
       "      <th>angry</th>\n",
       "      <th>disgust</th>\n",
       "      <th>fear</th>\n",
       "      <th>happy</th>\n",
       "      <th>neutral</th>\n",
       "      <th>sad</th>\n",
       "      <th>surprised</th>\n",
       "    </tr>\n",
       "  </thead>\n",
       "  <tbody>\n",
       "    <tr>\n",
       "      <th>0</th>\n",
       "      <td>unknown</td>\n",
       "      <td>2.275562</td>\n",
       "      <td>./output/datasets_v4/MFCCExtra/1001_DFA_ANG_XX...</td>\n",
       "      <td>1</td>\n",
       "      <td>0</td>\n",
       "      <td>0</td>\n",
       "      <td>0</td>\n",
       "      <td>0</td>\n",
       "      <td>0</td>\n",
       "      <td>0</td>\n",
       "    </tr>\n",
       "    <tr>\n",
       "      <th>1</th>\n",
       "      <td>unknown</td>\n",
       "      <td>2.335688</td>\n",
       "      <td>./output/datasets_v4/MFCCExtra/1001_DFA_DIS_XX...</td>\n",
       "      <td>0</td>\n",
       "      <td>1</td>\n",
       "      <td>0</td>\n",
       "      <td>0</td>\n",
       "      <td>0</td>\n",
       "      <td>0</td>\n",
       "      <td>0</td>\n",
       "    </tr>\n",
       "    <tr>\n",
       "      <th>2</th>\n",
       "      <td>unknown</td>\n",
       "      <td>2.168813</td>\n",
       "      <td>./output/datasets_v4/MFCCExtra/1001_DFA_FEA_XX...</td>\n",
       "      <td>0</td>\n",
       "      <td>0</td>\n",
       "      <td>1</td>\n",
       "      <td>0</td>\n",
       "      <td>0</td>\n",
       "      <td>0</td>\n",
       "      <td>0</td>\n",
       "    </tr>\n",
       "    <tr>\n",
       "      <th>3</th>\n",
       "      <td>unknown</td>\n",
       "      <td>1.868500</td>\n",
       "      <td>./output/datasets_v4/MFCCExtra/1001_DFA_HAP_XX...</td>\n",
       "      <td>0</td>\n",
       "      <td>0</td>\n",
       "      <td>0</td>\n",
       "      <td>1</td>\n",
       "      <td>0</td>\n",
       "      <td>0</td>\n",
       "      <td>0</td>\n",
       "    </tr>\n",
       "    <tr>\n",
       "      <th>4</th>\n",
       "      <td>unknown</td>\n",
       "      <td>2.035375</td>\n",
       "      <td>./output/datasets_v4/MFCCExtra/1001_DFA_NEU_XX...</td>\n",
       "      <td>0</td>\n",
       "      <td>0</td>\n",
       "      <td>0</td>\n",
       "      <td>0</td>\n",
       "      <td>1</td>\n",
       "      <td>0</td>\n",
       "      <td>0</td>\n",
       "    </tr>\n",
       "  </tbody>\n",
       "</table>\n",
       "</div>"
      ],
      "text/plain": [
       "  Intensity  AudioLength                                          MFCCExtra  \\\n",
       "0   unknown     2.275562  ./output/datasets_v4/MFCCExtra/1001_DFA_ANG_XX...   \n",
       "1   unknown     2.335688  ./output/datasets_v4/MFCCExtra/1001_DFA_DIS_XX...   \n",
       "2   unknown     2.168813  ./output/datasets_v4/MFCCExtra/1001_DFA_FEA_XX...   \n",
       "3   unknown     1.868500  ./output/datasets_v4/MFCCExtra/1001_DFA_HAP_XX...   \n",
       "4   unknown     2.035375  ./output/datasets_v4/MFCCExtra/1001_DFA_NEU_XX...   \n",
       "\n",
       "   angry  disgust  fear  happy  neutral  sad  surprised  \n",
       "0      1        0     0      0        0    0          0  \n",
       "1      0        1     0      0        0    0          0  \n",
       "2      0        0     1      0        0    0          0  \n",
       "3      0        0     0      1        0    0          0  \n",
       "4      0        0     0      0        1    0          0  "
      ]
     },
     "execution_count": 6,
     "metadata": {},
     "output_type": "execute_result"
    }
   ],
   "source": [
    "# Convert emotions to  one-hot encoding\n",
    "\n",
    "emotions = df['Emotion'].unique()\n",
    "\n",
    "for emotion in emotions:\n",
    "    df[emotion] = np.where(df['Emotion'] == emotion, 1, 0)\n",
    "\n",
    "# Drop emotion column\n",
    "df = df.drop('Emotion', axis=1)\n",
    "\n",
    "df.head()"
   ]
  },
  {
   "cell_type": "code",
   "execution_count": 7,
   "metadata": {},
   "outputs": [
    {
     "name": "stdout",
     "output_type": "stream",
     "text": [
      "(48632, 182)\n"
     ]
    }
   ],
   "source": [
    "# load np array from csv file\n",
    "def load_np_array(filename):\n",
    "    filename = filename.split('/')[-1]\n",
    "    filepath = os.path.join(dataset_path, 'MFCCExtra', filename)\n",
    "    abspath = os.path.abspath(filepath)\n",
    "    return np.load(abspath)\n",
    "\n",
    "# load dataset\n",
    "array = np.array([load_np_array(filename) for filename in df['MFCCExtra']])\n",
    "\n",
    "maximum = np.max(array)\n",
    "minimum = np.min(array)\n",
    "\n",
    "# normalize dataset\n",
    "array = (array - minimum) / (maximum - minimum)\n",
    "\n",
    "print(array.shape)"
   ]
  },
  {
   "cell_type": "code",
   "execution_count": 8,
   "metadata": {},
   "outputs": [
    {
     "name": "stdout",
     "output_type": "stream",
     "text": [
      "(38905, 182)\n",
      "(9727, 182)\n",
      "(38905, 7)\n",
      "(9727, 7)\n"
     ]
    }
   ],
   "source": [
    "# split dataset\n",
    "\n",
    "x_train, x_test, y_train, y_test = train_test_split(array, df[emotions], test_size=0.2, random_state=seed, shuffle=True, stratify=df[emotions])\n",
    "\n",
    "print(x_train.shape)\n",
    "print(x_test.shape)\n",
    "print(y_train.shape)\n",
    "print(y_test.shape)"
   ]
  },
  {
   "cell_type": "code",
   "execution_count": 9,
   "metadata": {},
   "outputs": [
    {
     "data": {
      "image/png": "[encoded data removed]",
      "text/plain": [
       "<Figure size 1000x500 with 1 Axes>"
      ]
     },
     "metadata": {},
     "output_type": "display_data"
    }
   ],
   "source": [
    "# plot train and test distribution of each emotion\n",
    "train_distribution = y_train.sum(axis=0)\n",
    "test_distribution = y_test.sum(axis=0)\n",
    "\n",
    "plt.figure(figsize=(10, 5))\n",
    "plt.bar(emotions, train_distribution, label='train')\n",
    "\n",
    "for i, v in enumerate(train_distribution):\n",
    "    plt.text(i, v, str(v), color='black', fontweight='bold', ha='center')\n",
    "\n",
    "\n",
    "plt.bar(emotions, test_distribution, label='test')\n",
    "for i, v in enumerate(test_distribution):\n",
    "    plt.text(i, v, str(v), color='black', fontweight='bold', ha='center')\n",
    "\n",
    "plt.legend()\n",
    "\n",
    "plt.show()"
   ]
  },
  {
   "cell_type": "code",
   "execution_count": 10,
   "metadata": {},
   "outputs": [],
   "source": [
    "# save dataset\n",
    "np.save(os.path.join(dataset_path, 'x_train_1d.npy'), x_train)\n",
    "np.save(os.path.join(dataset_path, 'x_test_1d.npy'), x_test)\n",
    "np.save(os.path.join(dataset_path, 'y_train_1d.npy'), y_train)\n",
    "np.save(os.path.join(dataset_path, 'y_test_1d.npy'), y_test)\n",
    "\n",
    "# save classes\n",
    "classes = pd.DataFrame(emotions, columns=['Emotion'])\n",
    "np.savetxt(os.path.join(dataset_path, 'classes.txt'), classes.values, fmt='%s')"
   ]
  }
 ],
 "metadata": {
  "kernelspec": {
   "display_name": ".venv",
   "language": "python",
   "name": "python3"
  },
  "language_info": {
   "codemirror_mode": {
    "name": "ipython",
    "version": 3
   },
   "file_extension": ".py",
   "mimetype": "text/x-python",
   "name": "python",
   "nbconvert_exporter": "python",
   "pygments_lexer": "ipython3",
   "version": "3.11.5"
  }
 },
 "nbformat": 4,
 "nbformat_minor": 2
}
